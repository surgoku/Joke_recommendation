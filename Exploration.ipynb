{
 "cells": [
  {
   "cell_type": "code",
   "execution_count": 1,
   "metadata": {
    "collapsed": false
   },
   "outputs": [
    {
     "name": "stdout",
     "output_type": "stream",
     "text": [
      "This non-commercial license of GraphLab Create for academic use is assigned to surbhi.jain@sjsu.edu and will expire on November 21, 2018.\n"
     ]
    },
    {
     "name": "stderr",
     "output_type": "stream",
     "text": [
      "[INFO] graphlab.cython.cy_server: GraphLab Create v2.1 started. Logging: /tmp/graphlab_server_1511374953.log\n"
     ]
    }
   ],
   "source": [
    "import string\n",
    "import re\n",
    "import graphlab\n",
    "import numpy as np\n",
    "%matplotlib inline\n",
    "import pandas as pd\n",
    "import seaborn as sns\n",
    "import matplotlib.pyplot as plt\n",
    "from sklearn.metrics import r2_score\n",
    "from sklearn.metrics import mean_squared_error"
   ]
  },
  {
   "cell_type": "markdown",
   "metadata": {},
   "source": [
    "# Jokes data and user ratings, data cleaning"
   ]
  },
  {
   "cell_type": "code",
   "execution_count": 13,
   "metadata": {
    "collapsed": true
   },
   "outputs": [],
   "source": [
    "def clean_data():\n",
    "    #with open('../data/jester_dataset_2/jester_items.dat') as f:\n",
    "    with open('../data/Jokes_labelling.txt') as f:\n",
    "        #text = f.read().lower().split('</p>')\n",
    "        text = f.read().lower().splitlines()\n",
    "        text = [\" \".join(i.split('\\t')[1].split('|||')) for i in text[1:]]\n",
    "        text = [re.sub(r'([^\\.\\s\\w]|_)+', '', i).replace(\".\", \". \") for i in text]\n",
    "        text = [line.replace('\\r', '') for line in text]\n",
    "        text = [line.replace('\\n', '') for line in text]\n",
    "        text = [line.replace('<br />', '') for line in text]\n",
    "        text = [line.replace('<p>', '') for line in text]\n",
    "        text = [line.replace('&quot;', '') for line in text]\n",
    "        text = [line.replace('&#039;', '') for line in text]\n",
    "        #text = [re.sub(\" \\d+\", \" \", line) for line in text]\n",
    "        text = [line.split(':', 1)[-1] for line in text]\n",
    "        #text = text[:150]\n",
    "    return text"
   ]
  },
  {
   "cell_type": "code",
   "execution_count": 23,
   "metadata": {
    "collapsed": false
   },
   "outputs": [
    {
     "data": {
      "text/plain": [
       "'a man visits the doctor.  the doctor says i have bad news for you. you have cancer and alzheimers disease.  the man replies wellthank god i dont have cancer'"
      ]
     },
     "execution_count": 23,
     "metadata": {},
     "output_type": "execute_result"
    }
   ],
   "source": [
    "text = clean_data()\n",
    "text[0]"
   ]
  },
  {
   "cell_type": "code",
   "execution_count": 24,
   "metadata": {
    "collapsed": false
   },
   "outputs": [],
   "source": [
    "ratings_data = pd.read_csv('../data/jester_dataset_2/jester_ratings.dat', sep='\\t')\n",
    "msk = np.random.rand(len(ratings_data)) < 0.8\n",
    "user_ratings_train = ratings_data[msk]\n",
    "user_ratings_test = ratings_data[~msk]\n",
    "train_data = graphlab.SFrame(user_ratings_train)\n",
    "test_data = graphlab.SFrame(user_ratings_test)"
   ]
  },
  {
   "cell_type": "code",
   "execution_count": 16,
   "metadata": {
    "collapsed": false
   },
   "outputs": [
    {
     "data": {
      "text/html": [
       "<div>\n",
       "<style>\n",
       "    .dataframe thead tr:only-child th {\n",
       "        text-align: right;\n",
       "    }\n",
       "\n",
       "    .dataframe thead th {\n",
       "        text-align: left;\n",
       "    }\n",
       "\n",
       "    .dataframe tbody tr th {\n",
       "        vertical-align: top;\n",
       "    }\n",
       "</style>\n",
       "<table border=\"1\" class=\"dataframe\">\n",
       "  <thead>\n",
       "    <tr style=\"text-align: right;\">\n",
       "      <th></th>\n",
       "      <th>user_id</th>\n",
       "      <th>joke_id</th>\n",
       "      <th>rating</th>\n",
       "    </tr>\n",
       "  </thead>\n",
       "  <tbody>\n",
       "    <tr>\n",
       "      <th>1</th>\n",
       "      <td>1</td>\n",
       "      <td>7</td>\n",
       "      <td>-9.281</td>\n",
       "    </tr>\n",
       "    <tr>\n",
       "      <th>2</th>\n",
       "      <td>1</td>\n",
       "      <td>8</td>\n",
       "      <td>-9.281</td>\n",
       "    </tr>\n",
       "    <tr>\n",
       "      <th>4</th>\n",
       "      <td>1</td>\n",
       "      <td>15</td>\n",
       "      <td>0.875</td>\n",
       "    </tr>\n",
       "    <tr>\n",
       "      <th>6</th>\n",
       "      <td>1</td>\n",
       "      <td>17</td>\n",
       "      <td>-9.031</td>\n",
       "    </tr>\n",
       "    <tr>\n",
       "      <th>7</th>\n",
       "      <td>1</td>\n",
       "      <td>18</td>\n",
       "      <td>-7.469</td>\n",
       "    </tr>\n",
       "  </tbody>\n",
       "</table>\n",
       "</div>"
      ],
      "text/plain": [
       "   user_id  joke_id  rating\n",
       "1        1        7  -9.281\n",
       "2        1        8  -9.281\n",
       "4        1       15   0.875\n",
       "6        1       17  -9.031\n",
       "7        1       18  -7.469"
      ]
     },
     "execution_count": 16,
     "metadata": {},
     "output_type": "execute_result"
    }
   ],
   "source": [
    "user_ratings_train.head(5)"
   ]
  },
  {
   "cell_type": "code",
   "execution_count": 17,
   "metadata": {
    "collapsed": false
   },
   "outputs": [
    {
     "data": {
      "text/plain": [
       "<matplotlib.axes._subplots.AxesSubplot at 0x12032ee10>"
      ]
     },
     "execution_count": 17,
     "metadata": {},
     "output_type": "execute_result"
    },
    {
     "data": {
      "image/png": "[encoded data removed]",
      "text/plain": [
       "<matplotlib.figure.Figure at 0x1215e6d10>"
      ]
     },
     "metadata": {},
     "output_type": "display_data"
    }
   ],
   "source": [
    "sns.distplot(user_ratings_train['rating'])"
   ]
  },
  {
   "cell_type": "code",
   "execution_count": 18,
   "metadata": {
    "collapsed": false
   },
   "outputs": [
    {
     "data": {
      "text/plain": [
       "['a radio conversation of a us naval ship with canadian authorities . . .  americans please divert your course 15 degrees to the north to avoid a collision.   canadians recommend you divert your course 15 degrees to the south to avoid a collision.   americans this is the captain of a us navy ship.  i say again divert your course.   canadians no.  i say again you divert your course.   americans this is the aircraft carrier uss lincoln the second largest ship in the united states atlantic fleet.  we are accompanied by three destroyers three cruisers and numerous support vessels.  i demand that you change your course 15 degrees north thats one five degrees north or countermeasures will be undertaken to ensure the safety of this ship.   canadians this is a lighthouse.  your call. ',\n",
       " '    do you believe in life after death  the boss asked one of his employees.      yes sir  the new recruit replied.       well then that makes everything just fine. . .   the boss went on.       after you left early yesterday to go to your grandmothers funeral she stopped in to see you.    ',\n",
       " 'there once was a man and a woman that both got in a terrible car wreck.  both of their vehicles were completely destroyed buy fortunately no one was hurt.  in thankfulness the woman said to the man we are both okay so we should celebrate.  i have a bottle of wine in my car lets open it.  so the woman got the bottleout of the car and handed it to the man.  the man took a really big drink and handed the woman the bottle.  the woman closed the bottle and put it down.  the man asked arent you going to take a drink the woman cleverly replied no i think ill just wait for the cops to get here. ',\n",
       " 'two rednecks were seated at the end of a bar when a young lady seated a few stools up began to choke on a piece of hamburger.  she was turning blue and obviously in serious respiratory distress.  one said to the other that gal there is having a bad time the other agreed and said think we should go help you bet said the firstand with that he ran over and said can you breathe she shook her head no.  he said can you speak she again shook her head no.  with that he pulled up her skirt and licked her on the butt.  she was so shocked she coughed up the obstruction and began to breathewith great relief.   the redneck walked back to his friend and said funny how that hind lick maneuver always works. ',\n",
       " 'on the first day of college the dean addressed the students pointing out some of the rules the female dormitory will be outofbounds for all male students and the male dormitory to the female students.  anybody caught breaking this rule will be finded 20 the first time.  he continued anybody caught breaking this rule the second time will be fined 60.  being caught a third time will cost you a fine of 180.  are there any questions  at this point a male student in the crowd inquired how much for a season pass ']"
      ]
     },
     "execution_count": 18,
     "metadata": {},
     "output_type": "execute_result"
    }
   ],
   "source": [
    "filter_good_rating = user_ratings_train[user_ratings_train.rating > 8]\n",
    "jokes_good_rating = filter_good_rating.joke_id.unique()\n",
    "[text[i-1] for i in jokes_good_rating][:5]"
   ]
  },
  {
   "cell_type": "code",
   "execution_count": 19,
   "metadata": {
    "collapsed": false
   },
   "outputs": [
    {
     "data": {
      "text/plain": [
       "['how many feminists does it take to screw in a light bulb thats not funny. ',\n",
       " 'q.  did you hear about the dyslexic devil worshiper a.  he sold his soul to santa. ',\n",
       " 'how many men does it take to screw in a light bulb one. . . men will screw anything. ',\n",
       " 'q if a person who speaks three languages is called trilingual and a person who speaks two languages is called bilingual what do call a person who only speaks one language a american',\n",
       " 'whats the difference between a macintosh and an etchasketch you dont have to shake the mac to clear the screen. ']"
      ]
     },
     "execution_count": 19,
     "metadata": {},
     "output_type": "execute_result"
    }
   ],
   "source": [
    "filter_bad_rating = user_ratings_train[user_ratings_train.rating < -8]\n",
    "jokes_bad_rating = filter_bad_rating.joke_id.unique()\n",
    "jokes_bad_rating.max()\n",
    "[text[i-1] for i in jokes_bad_rating][:5]"
   ]
  },
  {
   "cell_type": "code",
   "execution_count": 20,
   "metadata": {
    "collapsed": false
   },
   "outputs": [
    {
     "data": {
      "text/plain": [
       "count    839389.000000\n",
       "mean         70.079907\n",
       "std          46.306069\n",
       "min           5.000000\n",
       "25%          19.000000\n",
       "50%          68.000000\n",
       "75%         112.000000\n",
       "max         150.000000\n",
       "Name: joke_id, dtype: float64"
      ]
     },
     "execution_count": 20,
     "metadata": {},
     "output_type": "execute_result"
    }
   ],
   "source": [
    "user_ratings_train.joke_id.describe().T"
   ]
  },
  {
   "cell_type": "markdown",
   "metadata": {},
   "source": [
    "## See if there is a correlation between the length of the joke and its rating"
   ]
  },
  {
   "cell_type": "code",
   "execution_count": 21,
   "metadata": {
    "collapsed": false
   },
   "outputs": [
    {
     "name": "stdout",
     "output_type": "stream",
     "text": [
      "1048575\n",
      "255.0\n",
      "(839389, 3)\n",
      "(839389,)\n"
     ]
    },
    {
     "name": "stderr",
     "output_type": "stream",
     "text": [
      "/Users/ckhatri/anaconda/lib/python2.7/site-packages/ipykernel/__main__.py:23: SettingWithCopyWarning: \n",
      "A value is trying to be set on a copy of a slice from a DataFrame.\n",
      "Try using .loc[row_indexer,col_indexer] = value instead\n",
      "\n",
      "See the caveats in the documentation: http://pandas.pydata.org/pandas-docs/stable/indexing.html#indexing-view-versus-copy\n"
     ]
    },
    {
     "data": {
      "text/plain": [
       "<matplotlib.collections.PathCollection at 0x132026cd0>"
      ]
     },
     "execution_count": 21,
     "metadata": {},
     "output_type": "execute_result"
    },
    {
     "data": {
      "image/png": "[encoded data removed]",
      "text/plain": [
       "<matplotlib.figure.Figure at 0x12486e210>"
      ]
     },
     "metadata": {},
     "output_type": "display_data"
    }
   ],
   "source": [
    "text = [line.translate(None, string.punctuation) for line in text]\n",
    "length_joke_id = np.zeros(user_ratings_train.shape[0])\n",
    "#length_joke_id = []\n",
    "print ratings_data.shape[0]\n",
    "set_joke_id = set()\n",
    "\n",
    "ratings_list = []\n",
    "joke_length_list = []\n",
    "\n",
    "for i, joke_id in enumerate(list(user_ratings_train.joke_id)):\n",
    "    set_joke_id.add(joke_id)\n",
    "    try:\n",
    "        length_joke_id[i] = int(len(text[joke_id - 1].split()))\n",
    "        #ratings_list.append()\n",
    "    except:\n",
    "        print i, joke_id\n",
    "#print list(length_joke_id)\n",
    "#print list(set_joke_id)\n",
    "#print list(set_id)\n",
    "print max(length_joke_id)\n",
    "print user_ratings_train.shape\n",
    "print length_joke_id.shape\n",
    "user_ratings_train['length_joke_id'] = length_joke_id\n",
    "\n",
    "user_ratings_train.head()\n",
    "plt.scatter(x=user_ratings_train.length_joke_id, y=user_ratings_train.rating)"
   ]
  },
  {
   "cell_type": "code",
   "execution_count": null,
   "metadata": {
    "collapsed": true
   },
   "outputs": [],
   "source": []
  }
 ],
 "metadata": {
  "anaconda-cloud": {},
  "kernelspec": {
   "display_name": "Python 2",
   "language": "python",
   "name": "python2"
  },
  "language_info": {
   "codemirror_mode": {
    "name": "ipython",
    "version": 2
   },
   "file_extension": ".py",
   "mimetype": "text/x-python",
   "name": "python",
   "nbconvert_exporter": "python",
   "pygments_lexer": "ipython2",
   "version": "2.7.13"
  }
 },
 "nbformat": 4,
 "nbformat_minor": 1
}

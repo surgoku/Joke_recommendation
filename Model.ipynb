{
 "cells": [
  {
   "cell_type": "code",
   "execution_count": 5,
   "metadata": {
    "collapsed": false
   },
   "outputs": [],
   "source": [
    "import string\n",
    "import re\n",
    "import graphlab\n",
    "import numpy as np\n",
    "import pandas as pd\n",
    "import matplotlib.pyplot as plt\n",
    "from sklearn.metrics import r2_score\n",
    "from sklearn.metrics import mean_squared_error"
   ]
  },
  {
   "cell_type": "code",
   "execution_count": 6,
   "metadata": {
    "collapsed": true
   },
   "outputs": [],
   "source": [
    "def clean_data():\n",
    "    #with open('../data/jester_dataset_2/jester_items.dat') as f:\n",
    "    with open('../data/Jokes_labelling.txt') as f:\n",
    "        #text = f.read().lower().split('</p>')\n",
    "        text = f.read().lower().splitlines()\n",
    "        text = [\" \".join(i.split('\\t')[1].split('|||')) for i in text[1:]]\n",
    "        text = [re.sub(r'([^\\.\\s\\w]|_)+', '', i).replace(\".\", \". \") for i in text]\n",
    "        text = [line.replace('\\r', '') for line in text]\n",
    "        text = [line.replace('\\n', '') for line in text]\n",
    "        text = [line.replace('<br />', '') for line in text]\n",
    "        text = [line.replace('<p>', '') for line in text]\n",
    "        text = [line.replace('&quot;', '') for line in text]\n",
    "        text = [line.replace('&#039;', '') for line in text]\n",
    "        #text = [re.sub(\" \\d+\", \" \", line) for line in text]\n",
    "        text = [line.split(':', 1)[-1] for line in text]\n",
    "        #text = text[:150]\n",
    "    return text"
   ]
  },
  {
   "cell_type": "code",
   "execution_count": 7,
   "metadata": {
    "collapsed": false
   },
   "outputs": [
    {
     "name": "stderr",
     "output_type": "stream",
     "text": [
      "[INFO] graphlab.deploy.job: Validating job.\n",
      "[INFO] graphlab.deploy.job: Creating a LocalAsync environment called 'async'.\n",
      "[INFO] graphlab.deploy.map_job: Validation complete. Job: 'Model-Parameter-Search-Nov-21-2017-03-26-5900000' ready for execution\n",
      "[INFO] graphlab.deploy.map_job: Job: 'Model-Parameter-Search-Nov-21-2017-03-26-5900000' scheduled.\n",
      "[INFO] graphlab.deploy.job: Validating job.\n",
      "[INFO] graphlab.deploy.map_job: A job with name 'Model-Parameter-Search-Nov-21-2017-03-26-5900000' already exists. Renaming the job to 'Model-Parameter-Search-Nov-21-2017-03-26-5900000-738f1'.\n",
      "[INFO] graphlab.deploy.map_job: Validation complete. Job: 'Model-Parameter-Search-Nov-21-2017-03-26-5900000-738f1' ready for execution\n",
      "[INFO] graphlab.deploy.map_job: Job: 'Model-Parameter-Search-Nov-21-2017-03-26-5900000-738f1' scheduled.\n",
      "[INFO] graphlab.deploy.job: Validating job.\n",
      "[INFO] graphlab.deploy.map_job: Validation complete. Job: 'Model-Parameter-Search-Nov-21-2017-03-26-5900001' ready for execution\n",
      "[INFO] graphlab.deploy.map_job: Job: 'Model-Parameter-Search-Nov-21-2017-03-26-5900001' scheduled.\n"
     ]
    },
    {
     "name": "stdout",
     "output_type": "stream",
     "text": [
      "+---------+-------------+--------+---------+----------------------+\n",
      "| item_id | num_factors | target | user_id |       model_id       |\n",
      "+---------+-------------+--------+---------+----------------------+\n",
      "| joke_id |      8      | rating | user_id | [19, 18, 15, 17, 16] |\n",
      "| joke_id |      2      | rating | user_id |   [1, 0, 3, 2, 4]    |\n",
      "| joke_id |      6      | rating | user_id | [11, 10, 13, 12, 14] |\n",
      "| joke_id |      4      | rating | user_id |   [9, 8, 5, 7, 6]    |\n",
      "+---------+-------------+--------+---------+----------------------+\n",
      "+----------------------+--------------------+------------------------+\n",
      "| mean_validation_rmse | mean_training_rmse | mean_training_recall@5 |\n",
      "+----------------------+--------------------+------------------------+\n",
      "|    5.00307448707     |   3.02898736494    |    0.0618822521335     |\n",
      "|    5.00047999873     |   3.69368862721    |    0.0729669909063     |\n",
      "|    5.00268152467     |   3.19812982249    |    0.0716571826426     |\n",
      "|    5.00320363846     |   3.42069993173    |    0.0750884213008     |\n",
      "+----------------------+--------------------+------------------------+\n",
      "+--------------------------+-----------------+-----------------------------+-----------+\n",
      "| mean_validation_recall@5 |     fold_id     | mean_validation_precision@5 | num_folds |\n",
      "+--------------------------+-----------------+-----------------------------+-----------+\n",
      "|     0.0488515445381      | [4, 3, 0, 2, 1] |        0.275042400394       |     5     |\n",
      "|     0.0484476118436      | [1, 0, 3, 2, 4] |        0.278077384542       |     5     |\n",
      "|     0.0489652936909      | [1, 0, 3, 2, 4] |        0.273174139843       |     5     |\n",
      "|     0.0472455205219      | [4, 3, 0, 2, 1] |        0.273301819389       |     5     |\n",
      "+--------------------------+-----------------+-----------------------------+-----------+\n",
      "+---------------------------+\n",
      "| mean_training_precision@5 |\n",
      "+---------------------------+\n",
      "|       0.209640886775      |\n",
      "|       0.266967853429      |\n",
      "|       0.232443758527      |\n",
      "|       0.258812465896      |\n",
      "+---------------------------+\n",
      "[4 rows x 13 columns]\n",
      "\n"
     ]
    },
    {
     "data": {
      "text/html": [
       "<pre>Recsys training: model = factorization_recommender</pre>"
      ],
      "text/plain": [
       "Recsys training: model = factorization_recommender"
      ]
     },
     "metadata": {},
     "output_type": "display_data"
    },
    {
     "data": {
      "text/html": [
       "<pre>Preparing data set.</pre>"
      ],
      "text/plain": [
       "Preparing data set."
      ]
     },
     "metadata": {},
     "output_type": "display_data"
    },
    {
     "data": {
      "text/html": [
       "<pre>    Data has 838310 observations with 36328 users and 140 items.</pre>"
      ],
      "text/plain": [
       "    Data has 838310 observations with 36328 users and 140 items."
      ]
     },
     "metadata": {},
     "output_type": "display_data"
    },
    {
     "data": {
      "text/html": [
       "<pre>    Data prepared in: 0.84354s</pre>"
      ],
      "text/plain": [
       "    Data prepared in: 0.84354s"
      ]
     },
     "metadata": {},
     "output_type": "display_data"
    },
    {
     "data": {
      "text/html": [
       "<pre>Training factorization_recommender for recommendations.</pre>"
      ],
      "text/plain": [
       "Training factorization_recommender for recommendations."
      ]
     },
     "metadata": {},
     "output_type": "display_data"
    },
    {
     "data": {
      "text/html": [
       "<pre>+--------------------------------+--------------------------------------------------+----------+</pre>"
      ],
      "text/plain": [
       "+--------------------------------+--------------------------------------------------+----------+"
      ]
     },
     "metadata": {},
     "output_type": "display_data"
    },
    {
     "data": {
      "text/html": [
       "<pre>| Parameter                      | Description                                      | Value    |</pre>"
      ],
      "text/plain": [
       "| Parameter                      | Description                                      | Value    |"
      ]
     },
     "metadata": {},
     "output_type": "display_data"
    },
    {
     "data": {
      "text/html": [
       "<pre>+--------------------------------+--------------------------------------------------+----------+</pre>"
      ],
      "text/plain": [
       "+--------------------------------+--------------------------------------------------+----------+"
      ]
     },
     "metadata": {},
     "output_type": "display_data"
    },
    {
     "data": {
      "text/html": [
       "<pre>| num_factors                    | Factor Dimension                                 | 8        |</pre>"
      ],
      "text/plain": [
       "| num_factors                    | Factor Dimension                                 | 8        |"
      ]
     },
     "metadata": {},
     "output_type": "display_data"
    },
    {
     "data": {
      "text/html": [
       "<pre>| regularization                 | L2 Regularization on Factors                     | 1e-08    |</pre>"
      ],
      "text/plain": [
       "| regularization                 | L2 Regularization on Factors                     | 1e-08    |"
      ]
     },
     "metadata": {},
     "output_type": "display_data"
    },
    {
     "data": {
      "text/html": [
       "<pre>| solver                         | Solver used for training                         | sgd      |</pre>"
      ],
      "text/plain": [
       "| solver                         | Solver used for training                         | sgd      |"
      ]
     },
     "metadata": {},
     "output_type": "display_data"
    },
    {
     "data": {
      "text/html": [
       "<pre>| linear_regularization          | L2 Regularization on Linear Coefficients         | 1e-10    |</pre>"
      ],
      "text/plain": [
       "| linear_regularization          | L2 Regularization on Linear Coefficients         | 1e-10    |"
      ]
     },
     "metadata": {},
     "output_type": "display_data"
    },
    {
     "data": {
      "text/html": [
       "<pre>| max_iterations                 | Maximum Number of Iterations                     | 50       |</pre>"
      ],
      "text/plain": [
       "| max_iterations                 | Maximum Number of Iterations                     | 50       |"
      ]
     },
     "metadata": {},
     "output_type": "display_data"
    },
    {
     "data": {
      "text/html": [
       "<pre>+--------------------------------+--------------------------------------------------+----------+</pre>"
      ],
      "text/plain": [
       "+--------------------------------+--------------------------------------------------+----------+"
      ]
     },
     "metadata": {},
     "output_type": "display_data"
    },
    {
     "data": {
      "text/html": [
       "<pre>  Optimizing model using SGD; tuning step size.</pre>"
      ],
      "text/plain": [
       "  Optimizing model using SGD; tuning step size."
      ]
     },
     "metadata": {},
     "output_type": "display_data"
    },
    {
     "data": {
      "text/html": [
       "<pre>  Using 104788 / 838310 points for tuning the step size.</pre>"
      ],
      "text/plain": [
       "  Using 104788 / 838310 points for tuning the step size."
      ]
     },
     "metadata": {},
     "output_type": "display_data"
    },
    {
     "data": {
      "text/html": [
       "<pre>+---------+-------------------+------------------------------------------+</pre>"
      ],
      "text/plain": [
       "+---------+-------------------+------------------------------------------+"
      ]
     },
     "metadata": {},
     "output_type": "display_data"
    },
    {
     "data": {
      "text/html": [
       "<pre>| Attempt | Initial Step Size | Estimated Objective Value                |</pre>"
      ],
      "text/plain": [
       "| Attempt | Initial Step Size | Estimated Objective Value                |"
      ]
     },
     "metadata": {},
     "output_type": "display_data"
    },
    {
     "data": {
      "text/html": [
       "<pre>+---------+-------------------+------------------------------------------+</pre>"
      ],
      "text/plain": [
       "+---------+-------------------+------------------------------------------+"
      ]
     },
     "metadata": {},
     "output_type": "display_data"
    },
    {
     "data": {
      "text/html": [
       "<pre>| 0       | 25                | No Decrease (229.413 >= 27.7217)         |</pre>"
      ],
      "text/plain": [
       "| 0       | 25                | No Decrease (229.413 >= 27.7217)         |"
      ]
     },
     "metadata": {},
     "output_type": "display_data"
    },
    {
     "data": {
      "text/html": [
       "<pre>| 1       | 6.25              | No Decrease (198.386 >= 27.7217)         |</pre>"
      ],
      "text/plain": [
       "| 1       | 6.25              | No Decrease (198.386 >= 27.7217)         |"
      ]
     },
     "metadata": {},
     "output_type": "display_data"
    },
    {
     "data": {
      "text/html": [
       "<pre>| 2       | 1.5625            | No Decrease (194.595 >= 27.7217)         |</pre>"
      ],
      "text/plain": [
       "| 2       | 1.5625            | No Decrease (194.595 >= 27.7217)         |"
      ]
     },
     "metadata": {},
     "output_type": "display_data"
    },
    {
     "data": {
      "text/html": [
       "<pre>| 3       | 0.390625          | No Decrease (104.691 >= 27.7217)         |</pre>"
      ],
      "text/plain": [
       "| 3       | 0.390625          | No Decrease (104.691 >= 27.7217)         |"
      ]
     },
     "metadata": {},
     "output_type": "display_data"
    },
    {
     "data": {
      "text/html": [
       "<pre>| 4       | 0.0976562         | 20.6332                                  |</pre>"
      ],
      "text/plain": [
       "| 4       | 0.0976562         | 20.6332                                  |"
      ]
     },
     "metadata": {},
     "output_type": "display_data"
    },
    {
     "data": {
      "text/html": [
       "<pre>| 5       | 0.0488281         | 9.60639                                  |</pre>"
      ],
      "text/plain": [
       "| 5       | 0.0488281         | 9.60639                                  |"
      ]
     },
     "metadata": {},
     "output_type": "display_data"
    },
    {
     "data": {
      "text/html": [
       "<pre>| 6       | 0.0244141         | 3.84154                                  |</pre>"
      ],
      "text/plain": [
       "| 6       | 0.0244141         | 3.84154                                  |"
      ]
     },
     "metadata": {},
     "output_type": "display_data"
    },
    {
     "data": {
      "text/html": [
       "<pre>| 7       | 0.012207          | 11.7273                                  |</pre>"
      ],
      "text/plain": [
       "| 7       | 0.012207          | 11.7273                                  |"
      ]
     },
     "metadata": {},
     "output_type": "display_data"
    },
    {
     "data": {
      "text/html": [
       "<pre>+---------+-------------------+------------------------------------------+</pre>"
      ],
      "text/plain": [
       "+---------+-------------------+------------------------------------------+"
      ]
     },
     "metadata": {},
     "output_type": "display_data"
    },
    {
     "data": {
      "text/html": [
       "<pre>| Final   | 0.0244141         | 3.84154                                  |</pre>"
      ],
      "text/plain": [
       "| Final   | 0.0244141         | 3.84154                                  |"
      ]
     },
     "metadata": {},
     "output_type": "display_data"
    },
    {
     "data": {
      "text/html": [
       "<pre>+---------+-------------------+------------------------------------------+</pre>"
      ],
      "text/plain": [
       "+---------+-------------------+------------------------------------------+"
      ]
     },
     "metadata": {},
     "output_type": "display_data"
    },
    {
     "data": {
      "text/html": [
       "<pre>Starting Optimization.</pre>"
      ],
      "text/plain": [
       "Starting Optimization."
      ]
     },
     "metadata": {},
     "output_type": "display_data"
    },
    {
     "data": {
      "text/html": [
       "<pre>+---------+--------------+-------------------+-----------------------+-------------+</pre>"
      ],
      "text/plain": [
       "+---------+--------------+-------------------+-----------------------+-------------+"
      ]
     },
     "metadata": {},
     "output_type": "display_data"
    },
    {
     "data": {
      "text/html": [
       "<pre>| Iter.   | Elapsed Time | Approx. Objective | Approx. Training RMSE | Step Size   |</pre>"
      ],
      "text/plain": [
       "| Iter.   | Elapsed Time | Approx. Objective | Approx. Training RMSE | Step Size   |"
      ]
     },
     "metadata": {},
     "output_type": "display_data"
    },
    {
     "data": {
      "text/html": [
       "<pre>+---------+--------------+-------------------+-----------------------+-------------+</pre>"
      ],
      "text/plain": [
       "+---------+--------------+-------------------+-----------------------+-------------+"
      ]
     },
     "metadata": {},
     "output_type": "display_data"
    },
    {
     "data": {
      "text/html": [
       "<pre>| Initial | 110us        | 27.822            | 5.27466               |             |</pre>"
      ],
      "text/plain": [
       "| Initial | 110us        | 27.822            | 5.27466               |             |"
      ]
     },
     "metadata": {},
     "output_type": "display_data"
    },
    {
     "data": {
      "text/html": [
       "<pre>+---------+--------------+-------------------+-----------------------+-------------+</pre>"
      ],
      "text/plain": [
       "+---------+--------------+-------------------+-----------------------+-------------+"
      ]
     },
     "metadata": {},
     "output_type": "display_data"
    },
    {
     "data": {
      "text/html": [
       "<pre>| 1       | 220.153ms    | 22.0703           | 4.6977                | 0.0244141   |</pre>"
      ],
      "text/plain": [
       "| 1       | 220.153ms    | 22.0703           | 4.6977                | 0.0244141   |"
      ]
     },
     "metadata": {},
     "output_type": "display_data"
    },
    {
     "data": {
      "text/html": [
       "<pre>| 2       | 362.755ms    | 18.1762           | 4.26314               | 0.0145167   |</pre>"
      ],
      "text/plain": [
       "| 2       | 362.755ms    | 18.1762           | 4.26314               | 0.0145167   |"
      ]
     },
     "metadata": {},
     "output_type": "display_data"
    },
    {
     "data": {
      "text/html": [
       "<pre>| 3       | 573.849ms    | 15.9443           | 3.99282               | 0.0107102   |</pre>"
      ],
      "text/plain": [
       "| 3       | 573.849ms    | 15.9443           | 3.99282               | 0.0107102   |"
      ]
     },
     "metadata": {},
     "output_type": "display_data"
    },
    {
     "data": {
      "text/html": [
       "<pre>| 4       | 702.831ms    | 14.8868           | 3.85813               | 0.00863167  |</pre>"
      ],
      "text/plain": [
       "| 4       | 702.831ms    | 14.8868           | 3.85813               | 0.00863167  |"
      ]
     },
     "metadata": {},
     "output_type": "display_data"
    },
    {
     "data": {
      "text/html": [
       "<pre>| 5       | 864.576ms    | 13.8291           | 3.71853               | 0.00730151  |</pre>"
      ],
      "text/plain": [
       "| 5       | 864.576ms    | 13.8291           | 3.71853               | 0.00730151  |"
      ]
     },
     "metadata": {},
     "output_type": "display_data"
    },
    {
     "data": {
      "text/html": [
       "<pre>| 6       | 1.00s        | 13.2391           | 3.63831               | 0.00636835  |</pre>"
      ],
      "text/plain": [
       "| 6       | 1.00s        | 13.2391           | 3.63831               | 0.00636835  |"
      ]
     },
     "metadata": {},
     "output_type": "display_data"
    },
    {
     "data": {
      "text/html": [
       "<pre>| 10      | 1.43s        | 11.6214           | 3.40874               | 0.0043415   |</pre>"
      ],
      "text/plain": [
       "| 10      | 1.43s        | 11.6214           | 3.40874               | 0.0043415   |"
      ]
     },
     "metadata": {},
     "output_type": "display_data"
    },
    {
     "data": {
      "text/html": [
       "<pre>| 11      | 1.55s        | 11.3505           | 3.36877               | 0.00404199  |</pre>"
      ],
      "text/plain": [
       "| 11      | 1.55s        | 11.3505           | 3.36877               | 0.00404199  |"
      ]
     },
     "metadata": {},
     "output_type": "display_data"
    },
    {
     "data": {
      "text/html": [
       "<pre>| 20      | 3.05s        | 10.0925           | 3.17655               | 0.00258147  |</pre>"
      ],
      "text/plain": [
       "| 20      | 3.05s        | 10.0925           | 3.17655               | 0.00258147  |"
      ]
     },
     "metadata": {},
     "output_type": "display_data"
    },
    {
     "data": {
      "text/html": [
       "<pre>| 30      | 4.37s        | 9.64709           | 3.10563               | 0.00190458  |</pre>"
      ],
      "text/plain": [
       "| 30      | 4.37s        | 9.64709           | 3.10563               | 0.00190458  |"
      ]
     },
     "metadata": {},
     "output_type": "display_data"
    },
    {
     "data": {
      "text/html": [
       "<pre>| 40      | 5.79s        | 9.4405            | 3.07218               | 0.00153495  |</pre>"
      ],
      "text/plain": [
       "| 40      | 5.79s        | 9.4405            | 3.07218               | 0.00153495  |"
      ]
     },
     "metadata": {},
     "output_type": "display_data"
    },
    {
     "data": {
      "text/html": [
       "<pre>| 50      | 7.04s        | 9.32192           | 3.05282               | 0.00129841  |</pre>"
      ],
      "text/plain": [
       "| 50      | 7.04s        | 9.32192           | 3.05282               | 0.00129841  |"
      ]
     },
     "metadata": {},
     "output_type": "display_data"
    },
    {
     "data": {
      "text/html": [
       "<pre>+---------+--------------+-------------------+-----------------------+-------------+</pre>"
      ],
      "text/plain": [
       "+---------+--------------+-------------------+-----------------------+-------------+"
      ]
     },
     "metadata": {},
     "output_type": "display_data"
    },
    {
     "data": {
      "text/html": [
       "<pre>Optimization Complete: Maximum number of passes through the data reached.</pre>"
      ],
      "text/plain": [
       "Optimization Complete: Maximum number of passes through the data reached."
      ]
     },
     "metadata": {},
     "output_type": "display_data"
    },
    {
     "data": {
      "text/html": [
       "<pre>Computing final objective value and training RMSE.</pre>"
      ],
      "text/plain": [
       "Computing final objective value and training RMSE."
      ]
     },
     "metadata": {},
     "output_type": "display_data"
    },
    {
     "data": {
      "text/html": [
       "<pre>       Final objective value: 9.04133</pre>"
      ],
      "text/plain": [
       "       Final objective value: 9.04133"
      ]
     },
     "metadata": {},
     "output_type": "display_data"
    },
    {
     "data": {
      "text/html": [
       "<pre>       Final training RMSE: 3.00651</pre>"
      ],
      "text/plain": [
       "       Final training RMSE: 3.00651"
      ]
     },
     "metadata": {},
     "output_type": "display_data"
    },
    {
     "name": "stdout",
     "output_type": "stream",
     "text": [
      "predicted rating: [-2.14621202694319, -3.617419168819411, -3.410405084957106, -7.455473110546095, -16.123871490825636, -6.587657616008742, -5.621249959339125, -5.9561999295844865, -7.153216526378615, 1.7912305141792464, -1.0723653291358781, -3.4090430592193437, -8.424137518276197, 1.8847626592025923, 6.913835361133592, 7.389894797931688, 6.6954631353721785, 6.171342327724473, 7.7662087227211165, 2.8242824221954512, 2.67413648357548, 2.51606784714319, 4.73115499271013, 3.602174773345964, 6.601862981449144, 6.411162092815416, 7.249295070301073, 6.325973227153795, 7.849288060794847, 8.057376458774584, 2.739910617004411, 0.6071099485263991, 7.607539131771104, 5.657790973316209, 5.050221874843614, 9.388224079738634, 3.8954559112892317, 5.678210809360521, 7.852153852115648, 8.153966977726, 6.757111623416917, 1.8944786931381392, 7.479228212963121, 0.44887907756425616, 7.157579257617967, 3.2835836107835936, 0.8749645198688674, 2.369883194099443, 5.825430109630601, -1.5037215505733323, 7.424101516138093, 9.023427649866122, 8.694726392160433, -0.5147534166469407, 4.924878522287385, 8.599905654321688, -4.290136531461699, 4.6787541056976485, 4.845610424409883, 4.878196894656198, 3.702898308168428, 7.138159319292085, 4.111945077310579, 3.0543489898548293, 5.753164693246858, 4.681770249734895, 2.2627674783573317, 6.65319786919214, 3.7310668672428298, 6.811838134656923, 3.0606931890354323, 4.38761393679239, 3.0109560932026076, 4.4294534767971205, 2.546794592867868, 8.147074177394884, 5.157645150552766, -8.84796841489218, -2.686791494955046, -9.55732925282858, -9.012110546697599, -8.232995823492033, -10.35419388162039, -9.56223078118704, -9.068718031515104, -9.105854109395963, -4.502834693063719, -9.03401644574545, -3.140088126529677, -5.468711704482062, 0.41714005125619646, -4.038750634063704, -3.5237193764194084, -6.010795072187407, -4.66634912835501, 0.8728448594913649, 0.4042829121456313, 0.44652734650232073, 2.4418380702839064, 0.09131137980081316, ... ]\n",
      "user factors: [[ 1.08405948  0.27101806 -0.26115775 ...,  0.03732059 -2.89222836\n",
      "   0.84900898]\n",
      " [-1.63552296 -0.59571099 -0.2773377  ...,  1.15534377  0.37601164\n",
      "   1.12314975]\n",
      " [ 0.08781357  0.32815519 -0.03096006 ...,  1.49754417 -0.88048416\n",
      "   0.69703269]\n",
      " ..., \n",
      " [ 0.60967332 -1.61084688 -0.52230924 ..., -0.15096155  0.17976789\n",
      "   1.23060691]\n",
      " [ 0.25620973 -1.10350728  0.21226338 ...,  1.27630126  0.36284608\n",
      "  -0.78996259]\n",
      " [ 0.8880586  -0.30552739  2.6104691  ..., -0.35034451 -1.86907935\n",
      "   0.07937743]]\n",
      "joke factors: [[ 2.08920002 -0.19372685  1.29394853 ..., -3.24207449 -1.93245065\n",
      "   1.11124945]\n",
      " [-4.03773785 -2.03219032  0.33766875 ..., -1.58952272  2.08233523\n",
      "   0.49866405]\n",
      " [-1.01027644 -0.83932197  0.90868908 ...,  2.62353301  0.6481232\n",
      "   0.06414667]\n",
      " ..., \n",
      " [-1.36897874  0.93404341  3.09549332 ..., -2.04880118 -0.1371118\n",
      "  -0.2417275 ]\n",
      " [ 0.22354606  1.35231173  2.11033559 ..., -1.32622671  0.5001967\n",
      "  -0.79659837]\n",
      " [-1.38805103  3.01820135  1.87123382 ...,  2.50743699 -0.31463781\n",
      "   0.15159053]]\n",
      "predicted test rating: [-0.3729411815299821, -2.605451748241408, -6.274967596401198, 5.596046641002672, 5.755443527828233, 0.27338390005685564, 5.193402215372102, 4.495839610229509, 6.446234538684862, -5.165332362522109, 1.094093158374803, 1.4663999523029494, 2.6664970363483596, 4.004267021547334, 8.396712705026644, 6.38188610924341, 4.590785189996736, 2.85602705134012, 6.457366898189561, -11.626187161077482, -3.213926151861174, -7.901304200757964, 1.707517072092073, 1.3308255071745085, 2.5716431583271193, 0.7372826184139418, 0.9222417320118117, 1.2950225318775344, 1.2076613153324294, 3.8919641370878386, 1.2791581000194716, -0.43927498208425764, 8.158578082452792, 6.4980774368152785, -7.453126237262709, -2.6194887910976243, 6.403503760229127, -1.9377619777812791, 0.2256893659935164, -0.8168368195190263, 2.0108128930435347, 2.0226142550811934, 2.0064059640274214, 2.3329147840843367, 1.9753904486999678, 0.3636377896175551, 1.1368167544708419, 0.9757588650093245, 1.740202635060327, 1.571735456119554, -2.7417208706035447, -3.802561715711577, 5.672128244768159, 0.7176571036682295, 1.0018539871082472, 5.008660956750886, 4.034544929395692, 3.058752730022447, 1.812330051790254, 5.922918781171815, 1.847559868823068, 2.5881281937465834, 2.184034391771333, 2.241407975088136, 2.284460201393144, 3.8520154054269957, 0.8379500950679946, 0.5372564638958144, 3.862411006818788, 1.710028901229875, 3.154801070223825, -0.8223555837764573, 2.061543210874574, -2.1338893924846483, 1.0214740480289626, 2.386229559312837, 2.7394319022998976, -0.30643414007566694, 3.057459756265657, 12.90104190958597, 0.407924398313539, -4.049155489076598, 4.03729222668268, 3.800082668195741, 3.407302125822084, 3.087105616460817, -0.02544195996664289, 0.9093691552982497, 3.755404844413774, 2.5073197330341506, 1.6120349909172225, 1.9948377455578017, 1.6743841613636183, 2.9309197063551116, 2.6663970197544264, 0.6126226033077407, 0.8015033151016402, 0.9228476132259535, 0.04819320095636126, -0.9451953326358629, ... ]\n",
      "test rmse: 4.73805336976\n",
      "['bill  hillary are on a trip back to arkansas.  theyre almost out of gas so bill pulls into a service station on the outskirts of town.  the attendant runs out of the station to serve them when hillary realizes its an old boyfriend from high school.  she and the attendant chat as he gases up their car and cleans the windows.  then they all say goodbye.  as bill pulls the car onto the road he turns to hillary and says now arent you glad you married me and not him  you couldve been the wife of a grease monkey   to which hillary replied no bill.  if i would have married him youd be pumping gas and he would be the president ', 'an explorer in the deepest amazon suddenly finds himself surrounded by a bloodthirsty group of natives.  upon surveying the situation he says quietly to himself oh god im screwed.  the sky darkens and a voice booms out no you are not screwed.  pick up that stone at your feet and bash in the head of the chief standing in front of you.   so with the stone he bashes the life out of the chief.  standing above the lifeless body breathing heavily looking at 100 angry natives. . .   the voice booms out again okay . . . . .  now youre screwed. ', '  in an interview with david letterman carter passed along an anecdote of a translation problem in japan.  carter was speaking at a business lunch in tokyo where he decided to open his speech with a brief joke.     he told the joke then waited for the translator to announce the japanese version.  even though the story was quite short carter was surprised by how quickly the interpreter was able to retell it.  even more impressive was the reaction from the crowd.  carter thought the story was cute but not outright hilarious yet the crowd broke right up.  carter was very flattered.     after the speech carter wanted to meet the translator to ask him how he told the joke.  perhaps there is better way to tell the joke    when carter asked how the joke had been told in japanese the translator responded  i told them president carter has told a very funny joke.  please laugh now.      ', 'q what did the blind person say when given some matzah   a who the hell wrote this', 'clinton returns from a vacation in arkansas and walks down the steps of air force one with two pigs under his arms.  at the bottom of the steps he says to the honor guardsman these are genuine arkansas razorback hogs.  i got this one for chelsea and this one for hillary.  the guardsman replies nice trade sir. ', '   a drunk staggers into a catholic church enters a confessional booth sits down but says nothing.    the priest coughs a few times to get his attention but the drunk just sits there.      finally the priest pounds three times on the wall.     the drunk mumbles  aint no use knockin theres no paper on this side either.      ', 'q what is the australian word for a boomerang that wont come back a a stick', 'on the first day of college the dean addressed the students pointing out some of the rules the female dormitory will be outofbounds for all male students and the male dormitory to the female students.  anybody caught breaking this rule will be finded 20 the first time.  he continued anybody caught breaking this rule the second time will be fined 60.  being caught a third time will cost you a fine of 180.  are there any questions  at this point a male student in the crowd inquired how much for a season pass ', 'may i take your order the waiter asked.  yes how do you prepare your chickens  nothing special sir he replied.  we just tell them straight out that theyre going to die. ', 'a mechanical electrical and a software engineer from microsoft were driving through the desert when the car broke down.  the mechanical engineer said it seems to be a problem with the fuel injection system why dont we pop the hood and ill take a look at it.  to which the electrical engineer replied no i think its just a loose ground wire ill get out and take a look.  then the microsoft engineer jumps in.  no no no.  if we just close up all the windows get out wait a few minutes get back in and then reopen the windows everything will work fine. ']\n",
      "['during a recent publicity outing hillary sneaked off to visit a fortune teller of some local repute.  in a dark and hazy room peering into a crystal ball the mystic delivered grave news.   theres no easy way to say this so ill just be blunt prepare yourself to be a widow.  your husband will die a violent and horrible death this year.   visibly shaken hillary stared at the womans lined face then at the single flickering candle then down at her hands.  she took a few deep breaths to compose herself.  she simply had to know.  she met the fortune tellers gaze steadied her voice and asked her question.   will i be acquitted', '   a new business was opening and one of the owners friends wanted to send him flowers for the occasion.  they arrived at the new business site and the owner read the card  rest in peace.      the owner was angry and called the florist to complain.     after he had told the florist of the obvious mistake and how angry he was the florist replied  sir im really sorry for the mistake but rather than getting angry you should imagine this somewhere there is a funeral taking place today and they have flowers with a note saying congratulations on your new location      ', '   an american a scot and a canadian were in a terrible car accident.  they were all brought to the same emergency room but all three of them died before they arrived.     just as they were about to put the toe tag on the american he stirred and opened his eyes.  astonished the doctors and nurses present asked him what happened.      well  said the american  i remember the crash and then there was a beautiful light and then the canadian and the scot and i were standing at the gate s of heaven.  st.  peter approached us and said that we were all to young to die and that for a donation of 50 we could return to earth.  so of course i pulled out my wallet and gave him the 50 and the next thing i knew i was back here.       thats amazing  said the one of the doctors  but what happened to the other two      last i saw them  replied the american  the scot was haggling over the price and the canadian was waiting for the government to pay his.      ', 'a couple has been married for 75 years.  for the husbands 95th birthday his wife decides to surprise him by hiring a prostitute.  that day the doorbell rings.  the husband uses his walker to get to the door and opens it.   a 21yearold in a latex outfit smiles and says hi i here to give you super sex  the old man says ill take the soup. ', '   washington reuters  a tragic fire on monday destroyed the personal library of president george w.  bush.  both of his books have been lost.     presidential spokesman ari fleischer said the president was devastated as he had not finished coloring the second one.     ', 'how many feminists does it take to screw in a light bulb thats not funny. ', '  a group of girlfriends is on vacation when they see a 5story hotel with a sign that reads  for women only.   since they are without their boyfriends and husbands they decide to go in.      the bouncer a very attractive guy explains to them how it works.   we have 5 floors.  go up floor by floor and once you find what you are looking for you can stay there.  its easy to decide since each floor has a sign telling you whats inside.       so they start going up and on the first floor the sign reads  all the men on this floor are short and plain.   the friends laugh and without hesitation move on to the next floor.      the sign on the second floor reads  all the men here are short and handsome.   still this isnt good enough so the friends continue on up.      they reach the third floor and the sign reads  all the men here are tall and plain.       they still want to do better and so knowing there are still two floors left they continued on up.      on the fourth floor the sign is perfect  all the men here are tall and handsome.   the women get all excited and are going in when they realize that there is still one floor left.  wondering what they are missing they head on up to the fifth floor.      there they find a sign that reads  there are no men here.  this floor was built only to prove that there is no way to please a woman.      ', 'whats the difference between a used tire and 365 used condoms ones a goodyear the others a great year. ', '   a man went to apply for a job.  after filling out all of his applications he waited anxiously for the outcome.     the employer read all his applications and said  we have an opening for people like you.       oh great  he said.   what is it      its called the door     ', '  an astronomer a physicist and a mathematician it is said were holidaying in scotland.  glancing from a train window they observed a black sheep in the middle of a field.      how interesting  observed the astronomer  all scottish sheep are black     to which the physicist responded  no no some scottish sheep are black     the mathematician gazed heavenward in supplication and then intoned  in scotland there exists at least one field containing at least one sheep at least one side of which is black.      ']\n",
      "['  a little boy goes to his dad and asks  what is politics     his dad says  well son let me try to explain it this way im the breadwinner of the family so lets call me capitalism.  your mom shes the administrator of the money so well call her the government.  were here to take care of your needs so well call you the people.  the nanny well consider her the working class.  and your baby brother well call him the future.  now think about that and see if that makes sense.      so the little boy goes off to bed thinking about what dad had said.  later that night he hears his baby brother crying so he gets up to check on him.  he finds that the baby has severely soiled his diaper.  so the little boy goes to his parents room and finds his mother sound asleep.  not wanting to wake her he goes to the nannys room.  finding the door locked he peeks in the keyhole and sees his father in bed with the nanny.  he gives up and goes back to bed.  the next morning the little boy says to his father  dad i think i understand the concept of politics now.   the father says  good son.  tell me in your own words what you think politics is all about.      the little boy replies  well while capitalism is screwing the working class the government is sound asleep the people are being ignored and the future is in deep shit.      ', 'out in the backwoods of some midwestern state little johnny arrives at school an hour late.  teacher why are you so late john johny  my big brother got shot in the ass.  the teacher corrects his speech teacher rectum.  johnny  wrecked him hell it damn near killed him', 'two atoms are walking down the street when one atom says to the other oh my ive lost an electron the second atom saysare you sure  the first replies im positive', '   deep within a forest a little turtle began to climb a tree.  after hours of effort he reached the top jumped into the air waving his front legs and crashed to the ground.  after recovering he slowly climbed the tree again jumped and fell to the ground.  the turtle tried again and again while a couple of birds sitting on a branch watched his sad efforts.     finally the female bird turned to her mate.   dear  she chirped  i think its time to tell him hes adopted.      ', 'a woman has twins and gives them up for adoption.  one of them goes to a family in egypt and is named amal.  the other goes to a family in spain they name him juan.  years later juan sends a picture of himself to his mom.  upon receiving the picture she tells her husband that she wishes she also had a picture of amal.  her husband responds but they are twinsif youve seen juan youve seen amal. ', 'q what is the difference between mechanical engineers and civil engineers a mechanical engineers build weapons civil engineers build targets. ', '   one day a professor was giving a big test to his students.  he handed out the tests and went back to his desk to wait.  once the test was over the students all handed the tests back in.     the professor noticed that one of the students had attached a 100 bill to his test with a note saying  a dollar per point.      the next class the professor handed the tests back out.  this student got back his test. . . and 64 change    ', 'q.  whats 200 feet long and has 4 teeth a.  the front row at a willie nelson concert. ', '  a man goes into a drug store and asks the pharmacist if he can give him something for the hiccups.      the pharmacist promptly reaches out and slaps the mans face.       what the heck did you do that for  the man screams.       well you dont have the hiccups anymore do you      the man says  no i dont you idiot. . . but my wife out in the car still does   ', '  a man joins a big corporate empire as a trainee.     on his very first day of work he dials the pantry and shouts into the phone  get me a coffee quickly     the voice from the other side responds  you fool youve dialed the wrong extension do you know who youre talking to dumbo      no  replied the trainee.    its the ceo of the company you fool     the trainee shouts back  and do you know who you are talking to you fool    no.   replied the ceo indignantly.      good  replied the trainee and puts down the phone.     ']\n",
      "['q.  whats 200 feet long and has 4 teeth a.  the front row at a willie nelson concert. ', 'two atoms are walking down the street when one atom says to the other oh my ive lost an electron the second atom saysare you sure  the first replies im positive', 'an asian man goes into a new york citybank to exchange 10000 yen for american currency.  the teller gives him 72. 00.  the next month the asian man goes into the same bank with 10000 yen and receives 62. 00.  he asks how come only 62. 00 the teller says fluctuations fluctuations whereupon the asian man looks back at the teller and says fluk you amelicans too', 'if pro is the opposite of con then congress must be the opposite of progress. ', '   one day a professor was giving a big test to his students.  he handed out the tests and went back to his desk to wait.  once the test was over the students all handed the tests back in.     the professor noticed that one of the students had attached a 100 bill to his test with a note saying  a dollar per point.      the next class the professor handed the tests back out.  this student got back his test. . . and 64 change    ', 'an engineer a physicist and a mathematician are sleeping in a room.  there is a fire in the room.  the engineer wakes up sees the fire picks up the bucket of water and douses the fire and goes back to sleep.  again there is fire in the room.  this time the physicist wakes up notices the bucket fills it with water calculates the optimal trajectory and douses the fire in minimum amount of water and goes back to sleep.   again there is fire.  this time the mathematician wakes up.  he looks at the fire looks at the bucket and the water and exclaims a solution exists and goes back to sleep. ', '  an american tourist goes into a restaurant in spain and orders the specialty of the house.  when his dinner arrives he asks the waiter what it is.       these senor  replied the waiter in broken english  are the testicles of the bull killed in the ring today.      the tourist swallowed hard but tasted the dish and thought it was delicious.  so he comes back the next evening and orders the same item.  when it is served he says to the waiter  these testicles. . . are much smaller than the ones i had last night.        yes senor  replied the waiter  you see. . . the bull he does not always lose.     ', 'a horse walks into a bar.  bartender says  so why the long face', 'a dog walks into western union and asks the clerk to send a telegram.  he fills out a form on which he writes down the telegram he wishes to send bow wow wow bow wow wow.  the clerk says you can add another bow wow for the same price.   the dog responded now wouldnt that sound a little silly  a dog walks into western union and asks the clerk to send a telegram.  he fills out a form on which he writes down the telegram he wishes to send bow wow wow bow wow wow.  the clerk says you can add another bow wow for the same price.   the dog responded now wouldnt that sound a little silly  a dog walks into western union and asks the clerk to send a telegram.  he fills out a form on which he writes down the telegram he wishes to send bow wow wow bow wow wow.  the clerk says you can add another bow wow for the same price.   the dog responded now wouldnt that sound a little silly  ', 'how many feminists does it take to screw in a light bulb thats not funny. ']\n",
      "['  a little boy goes to his dad and asks  what is politics     his dad says  well son let me try to explain it this way im the breadwinner of the family so lets call me capitalism.  your mom shes the administrator of the money so well call her the government.  were here to take care of your needs so well call you the people.  the nanny well consider her the working class.  and your baby brother well call him the future.  now think about that and see if that makes sense.      so the little boy goes off to bed thinking about what dad had said.  later that night he hears his baby brother crying so he gets up to check on him.  he finds that the baby has severely soiled his diaper.  so the little boy goes to his parents room and finds his mother sound asleep.  not wanting to wake her he goes to the nannys room.  finding the door locked he peeks in the keyhole and sees his father in bed with the nanny.  he gives up and goes back to bed.  the next morning the little boy says to his father  dad i think i understand the concept of politics now.   the father says  good son.  tell me in your own words what you think politics is all about.      the little boy replies  well while capitalism is screwing the working class the government is sound asleep the people are being ignored and the future is in deep shit.      ', 'out in the backwoods of some midwestern state little johnny arrives at school an hour late.  teacher why are you so late john johny  my big brother got shot in the ass.  the teacher corrects his speech teacher rectum.  johnny  wrecked him hell it damn near killed him', '  when my threeyearold son opened the birthday gift from his grandmother he discovered a water pistol.  he squealed with delight and headed for the nearest sink.  i was not so pleased.  i turned to mom and said  im surprised at you.  dont you remember how we used to drive you crazy with water guns     mom smiled and then replied. . .  i remember.      ', 'at a recent sacramento pc users group meeting a company was demonstrating its latest speech recognition software.  a representative from the company was just about ready to start the demonstration and asked everyone in the room to quiet down.  just then someone in the back of the room yelled format c return.   someone else chimed in yes return  unfortunately the software worked. ', 'what did the buddhist say to the hot dog vendor make me one with everything. ', '   deep within a forest a little turtle began to climb a tree.  after hours of effort he reached the top jumped into the air waving his front legs and crashed to the ground.  after recovering he slowly climbed the tree again jumped and fell to the ground.  the turtle tried again and again while a couple of birds sitting on a branch watched his sad efforts.     finally the female bird turned to her mate.   dear  she chirped  i think its time to tell him hes adopted.      ', 'q how many presidents does it take to screw in a light bulb a it depends upon your definition of screwing a light bulb. ', 'a country guy goes into a city bar that has a dress code and the maitre d demands he wear a tie.  discouraged the guy goes to his car to sulk when inspiration strikes hes got jumper cables in the trunk so he wraps them around his neck sort of like a string tie a bulky string tie to be sure and returns to the bar.  the maitre d is reluctant but says to the guy okay youre a pretty resourceful fellow you can come in. . .  but just dont start anything', '   a drunk staggers into a catholic church enters a confessional booth sits down but says nothing.    the priest coughs a few times to get his attention but the drunk just sits there.      finally the priest pounds three times on the wall.     the drunk mumbles  aint no use knockin theres no paper on this side either.      ', 'they asked the japanese visitor if they have elections in his country.    every morning he answers. ']\n",
      "['this couple had an excellent relationship going until one day he came home from work to find his girlfriend packing.  he asked her why she was leaving him and she told him that she had heard awful things about him.  what could they possibly have said to make you move out  they told me that you were a pedophile.   he replied thats an awfully big word for a ten year old. ', 'q.  whats the difference between a man and a toilet a.  a toilet doesnt follow you around after you use it. ', '  judy was having trouble with her computer so she called tony the computer guy over to her desk.  tony clicked a couple buttons and solved the problem.  as he was walking away judy called after him  so what was wrong     and he replied  it was an id ten t error.      a puzzled expression ran riot over judys face.   an id ten t error whats that. . . in case i need to fix it again     he gave her a grin. . .  havent you ever heard of an id ten t error before      no  replied judy.      write it down  he said  and i think youll figure it out.      she wrote. . .  i d 1 0 t  ', 'a man visits the doctor.  the doctor says i have bad news for you. you have cancer and alzheimers disease.  the man replies wellthank god i dont have cancer', 'a guy walks into a bar orders a beer and says to the bartender hey i got this great polish joke. . .  the barkeep glares at him and says in a warning tone of voice before you go telling that joke you better know that im polish both bouncers are polish and so are most of my customers  okay says the customerill tell it very slowly. ', 'a man piloting a hot air balloon discovers he has wandered off course and is hopelessly lost.  he descends to a lower altitude and locates a man down on the ground.  he lowers the balloon further and shouts excuse me can you tell me where i am the man below says yes youre in a hot air balloon about 30 feet above this field.   you must work in information technology says the balloonist.   yes i do replies the man.  and how did you know that  well says the balloonist what you told me is technically correct but of no use to anyone.   the man below says you must work in management.   i do replies the balloonist how did you know  well says the man you dont know where you are or where youre going but you expect my immediate help.  youre in the same position you were before we met but now its my fault', 'once upon a time two brooms fell in love and decided to get married.  before the ceremony the bride broom informed the groom broom that she was expecting a little whiskbroom.  the groom broom was aghast how is this possible he asked.  weve never swept together', 'at a recent sacramento pc users group meeting a company was demonstrating its latest speech recognition software.  a representative from the company was just about ready to start the demonstration and asked everyone in the room to quiet down.  just then someone in the back of the room yelled format c return.   someone else chimed in yes return  unfortunately the software worked. ', 'a teacher is explaining to her class how different languages use negatives differently.  she says in all languages a positive followed by a negative or a negative followed by a positive makes a negative.  in some languages two negatives together make a positive while in others they make a negative.  but in no language do two positives make a negative.  one of the students puts up his hand and says yeah right. ', 'the graduate with a science degree asks why does it work the graduate with an engineering degree asks how does it work  the graduate with an accounting degree asks how much will it cost  the graduate with a liberal arts degree asks do you want fries with that']\n",
      "['q.  whats the difference between a man and a toilet a.  a toilet doesnt follow you around after you use it. ', 'during a recent publicity outing hillary sneaked off to visit a fortune teller of some local repute.  in a dark and hazy room peering into a crystal ball the mystic delivered grave news.   theres no easy way to say this so ill just be blunt prepare yourself to be a widow.  your husband will die a violent and horrible death this year.   visibly shaken hillary stared at the womans lined face then at the single flickering candle then down at her hands.  she took a few deep breaths to compose herself.  she simply had to know.  she met the fortune tellers gaze steadied her voice and asked her question.   will i be acquitted', 'q.  whats o.  j.  simpsons internet address a.  slash slash backslash slash slash escape. ', 'how many feminists does it take to screw in a light bulb thats not funny. ', 'bill  hillary are on a trip back to arkansas.  theyre almost out of gas so bill pulls into a service station on the outskirts of town.  the attendant runs out of the station to serve them when hillary realizes its an old boyfriend from high school.  she and the attendant chat as he gases up their car and cleans the windows.  then they all say goodbye.  as bill pulls the car onto the road he turns to hillary and says now arent you glad you married me and not him  you couldve been the wife of a grease monkey   to which hillary replied no bill.  if i would have married him youd be pumping gas and he would be the president ', 'q.  did you hear about the dyslexic devil worshiper a.  he sold his soul to santa. ', 'this couple had an excellent relationship going until one day he came home from work to find his girlfriend packing.  he asked her why she was leaving him and she told him that she had heard awful things about him.  what could they possibly have said to make you move out  they told me that you were a pedophile.   he replied thats an awfully big word for a ten year old. ', 'q.  whats 200 feet long and has 4 teeth a.  the front row at a willie nelson concert. ', 'a man visits the doctor.  the doctor says i have bad news for you. you have cancer and alzheimers disease.  the man replies wellthank god i dont have cancer', 'a group of managers were given the assignment to measure the height of a flagpole.  so they go out to the flagpole with ladders and tape measures and theyre falling off the ladders dropping the tape measures  the whole thing is just a mess.  an engineer comes along and sees what theyre trying to do walks over pulls the flagpole out of the ground lays it flat measures it from end to end gives the measurement to one of the managers and walks away.  after the engineer has gone one manager turns to another and laughs.  isnt that just like an engineer were looking for the height and he gives us the length. ']\n",
      "['  a little boy goes to his dad and asks  what is politics     his dad says  well son let me try to explain it this way im the breadwinner of the family so lets call me capitalism.  your mom shes the administrator of the money so well call her the government.  were here to take care of your needs so well call you the people.  the nanny well consider her the working class.  and your baby brother well call him the future.  now think about that and see if that makes sense.      so the little boy goes off to bed thinking about what dad had said.  later that night he hears his baby brother crying so he gets up to check on him.  he finds that the baby has severely soiled his diaper.  so the little boy goes to his parents room and finds his mother sound asleep.  not wanting to wake her he goes to the nannys room.  finding the door locked he peeks in the keyhole and sees his father in bed with the nanny.  he gives up and goes back to bed.  the next morning the little boy says to his father  dad i think i understand the concept of politics now.   the father says  good son.  tell me in your own words what you think politics is all about.      the little boy replies  well while capitalism is screwing the working class the government is sound asleep the people are being ignored and the future is in deep shit.      ', 'out in the backwoods of some midwestern state little johnny arrives at school an hour late.  teacher why are you so late john johny  my big brother got shot in the ass.  the teacher corrects his speech teacher rectum.  johnny  wrecked him hell it damn near killed him', 'a man visits the doctor.  the doctor says i have bad news for you. you have cancer and alzheimers disease.  the man replies wellthank god i dont have cancer', 'q.  did you hear about the dyslexic devil worshiper a.  he sold his soul to santa. ', '   deep within a forest a little turtle began to climb a tree.  after hours of effort he reached the top jumped into the air waving his front legs and crashed to the ground.  after recovering he slowly climbed the tree again jumped and fell to the ground.  the turtle tried again and again while a couple of birds sitting on a branch watched his sad efforts.     finally the female bird turned to her mate.   dear  she chirped  i think its time to tell him hes adopted.      ', 'how many feminists does it take to screw in a light bulb thats not funny. ', 'three engineering students were gathered together discussing the possible designers of the human body.  one said it was a mechanical engineer.  just look at all the joints.   another said no it was an electrical engineer.  the nervous systems many thousands of electrical connections.   the last said actually it was a civil engineer.  who else would run a toxic waste pipeline through a recreational area', 'this couple had an excellent relationship going until one day he came home from work to find his girlfriend packing.  he asked her why she was leaving him and she told him that she had heard awful things about him.  what could they possibly have said to make you move out  they told me that you were a pedophile.   he replied thats an awfully big word for a ten year old. ', '   a guy had been feeling down for so long that he finally decided to seek the aid of a psychiatrist.     he went there lay on the couch spilled his guts then waited for the profound wisdom of the psychiatrist to make him feel better.     the psychiatrist asked me a few questions took some notes then sat thinking in silence for a few minutes with a puzzled look on his face.     he looked up with an expression of delight and said  i think your problem is low selfesteem.  it is very common among losers.      ', '  a group of girlfriends is on vacation when they see a 5story hotel with a sign that reads  for women only.   since they are without their boyfriends and husbands they decide to go in.      the bouncer a very attractive guy explains to them how it works.   we have 5 floors.  go up floor by floor and once you find what you are looking for you can stay there.  its easy to decide since each floor has a sign telling you whats inside.       so they start going up and on the first floor the sign reads  all the men on this floor are short and plain.   the friends laugh and without hesitation move on to the next floor.      the sign on the second floor reads  all the men here are short and handsome.   still this isnt good enough so the friends continue on up.      they reach the third floor and the sign reads  all the men here are tall and plain.       they still want to do better and so knowing there are still two floors left they continued on up.      on the fourth floor the sign is perfect  all the men here are tall and handsome.   the women get all excited and are going in when they realize that there is still one floor left.  wondering what they are missing they head on up to the fifth floor.      there they find a sign that reads  there are no men here.  this floor was built only to prove that there is no way to please a woman.      ']\n"
     ]
    }
   ],
   "source": [
    "\n",
    "#def load_train_test_data(filename_train, filename_test):\n",
    "def load_train_test_data():\n",
    "    ratings_data = pd.read_csv('../data/jester_dataset_2/jester_ratings.dat', sep='\\t')\n",
    "    msk = np.random.rand(len(ratings_data)) < 0.8\n",
    "    user_ratings_train = ratings_data[msk]\n",
    "    user_ratings_test = ratings_data[~msk]\n",
    "    train_data = graphlab.SFrame(user_ratings_train)\n",
    "    test_data = graphlab.SFrame(user_ratings_test)\n",
    "    return train_data, test_data\n",
    "\n",
    "def matrix_factorization_model(data, num_factors):\n",
    "    mf_model = graphlab.recommender.factorization_recommender.create(data,target\n",
    "    ='rating', user_id = 'user_id', item_id = 'joke_id', num_factors=num_factors)\n",
    "    return mf_model\n",
    "\n",
    "def get_model_results(mf_model, data):\n",
    "    predicted_rating = mf_model.predict(data)\n",
    "    coeffs = mf_model.get('coefficients')\n",
    "    user_factors = coeffs['user_id']['factors'].to_numpy()\n",
    "    joke_factors = coeffs['joke_id']['factors'].to_numpy().T\n",
    "    jokes =  coeffs['joke_id']['joke_id']\n",
    "    users = coeffs['user_id']['user_id']\n",
    "    pred_rating_matrix_multiply = np.dot(user_factors,joke_factors) + coeffs['intercept']\n",
    "    print('predicted rating: {}'.format(predicted_rating))\n",
    "    print('user factors: {}'.format(user_factors))\n",
    "    print('joke factors: {}'.format(joke_factors))\n",
    "    return user_factors, joke_factors\n",
    "\n",
    "def grid_search_mf_model(data, params, num_folds = 5):\n",
    "    folds = graphlab.cross_validation.KFold(data, num_folds)\n",
    "    job = graphlab.grid_search.create(folds,\n",
    "        graphlab.recommender.factorization_recommender.create,params)\n",
    "    print job.get_results()\n",
    "\n",
    "def test_rating_rmse(mf_model, test_data):\n",
    "    predicted_test_rating = mf_model.predict(test_data)\n",
    "    test_rmse = np.sqrt(mean_squared_error(predicted_test_rating, test_data['rating']))\n",
    "    return predicted_test_rating, test_rmse\n",
    "\n",
    "def find_latent_features(text, user_factors, joke_factors):\n",
    "    joke_factors_sorted = np.argsort(joke_factors, axis = 1)[:,-10:]\n",
    "    for i in range(user_factors.shape[1]):\n",
    "        print [text[i-1] for i in joke_factors_sorted[i]][::-1]\n",
    "\n",
    "if __name__ == '__main__':\n",
    "    '''Load clean jokes text data and user ratings\n",
    "    '''\n",
    "    #text = clean_data('../data/jokes.dat')\n",
    "    text = clean_data()\n",
    "    #train_data, test_data = load_train_test_data('../data/ratings.csv', '../data/test_ratings.csv')\n",
    "    train_data, test_data = load_train_test_data()\n",
    "    \n",
    "    '''Grid search for the best parameters\n",
    "    '''\n",
    "    params = {'user_id':'user_id', 'item_id':'joke_id', 'target':'rating',\n",
    "                'num_factors': [2, 4, 6, 8]}\n",
    "    grid_search_mf_model(train_data, params, num_folds = 5)\n",
    "\n",
    "    '''Build matrix factorization model\n",
    "    '''\n",
    "    mf_model = matrix_factorization_model(train_data, 8)\n",
    "    user_factors, joke_factors = get_model_results(mf_model, train_data)\n",
    "\n",
    "    '''Predict the ratings on the test data\n",
    "    '''\n",
    "    predicted_test_rating, test_rmse = test_rating_rmse(mf_model, test_data)\n",
    "    print('predicted test rating: {}'.format(predicted_test_rating))\n",
    "    print('test rmse: {}'.format(test_rmse))\n",
    "\n",
    "    '''Find the latent features in the jokes\n",
    "    '''\n",
    "    find_latent_features(text, user_factors, joke_factors)\n",
    "\n",
    "\n",
    "\n",
    "\n",
    "\n",
    "\n",
    "\n",
    "\n",
    "\n",
    "\n",
    "\n",
    "    #\n"
   ]
  },
  {
   "cell_type": "code",
   "execution_count": null,
   "metadata": {
    "collapsed": true
   },
   "outputs": [],
   "source": []
  }
 ],
 "metadata": {
  "kernelspec": {
   "display_name": "Python 2",
   "language": "python",
   "name": "python2"
  },
  "language_info": {
   "codemirror_mode": {
    "name": "ipython",
    "version": 2
   },
   "file_extension": ".py",
   "mimetype": "text/x-python",
   "name": "python",
   "nbconvert_exporter": "python",
   "pygments_lexer": "ipython2",
   "version": "2.7.13"
  }
 },
 "nbformat": 4,
 "nbformat_minor": 2
}
